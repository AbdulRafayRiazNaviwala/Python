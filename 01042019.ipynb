{
 "cells": [
  {
   "cell_type": "code",
   "execution_count": null,
   "metadata": {},
   "outputs": [],
   "source": [
    "apple=[\"cjejcf\",\"jeocv\"]\n",
    "apple"
   ]
  },
  {
   "cell_type": "code",
   "execution_count": null,
   "metadata": {},
   "outputs": [],
   "source": [
    "apple.append(\"chws\")"
   ]
  },
  {
   "cell_type": "code",
   "execution_count": null,
   "metadata": {},
   "outputs": [],
   "source": [
    "apple"
   ]
  },
  {
   "cell_type": "code",
   "execution_count": null,
   "metadata": {},
   "outputs": [],
   "source": [
    "my_list = ['p','r','o','b','e']\n",
    "# Output: p\n",
    "print(my_list[0])\n",
    "\n",
    "# Output: o\n",
    "print(my_list[2])\n",
    "\n",
    "# Output: e\n",
    "print(my_list[4])\n",
    "\n",
    "# Error! Only integer can be used for indexing\n",
    "# my_list[4.0]\n",
    "\n",
    "# Nested List\n",
    "n_list = [\"Happy\", [2,0,1,5]]"
   ]
  },
  {
   "cell_type": "code",
   "execution_count": null,
   "metadata": {
    "scrolled": true
   },
   "outputs": [],
   "source": [
    "# Nested indexing\n",
    "\n",
    "# Output: a\n",
    "print(n_list[0][1])    \n",
    "\n",
    "# Output: 5\n",
    "print(n_list[1][3])"
   ]
  },
  {
   "cell_type": "markdown",
   "metadata": {},
   "source": [
    "# LOOPING/LOOPS FOR LOOPS\n"
   ]
  },
  {
   "cell_type": "code",
   "execution_count": null,
   "metadata": {},
   "outputs": [],
   "source": [
    "for my_name in range(10):\n",
    "    print(\"Abdul Rafay Riaz Naviwala\")\n"
   ]
  },
  {
   "cell_type": "code",
   "execution_count": null,
   "metadata": {},
   "outputs": [],
   "source": [
    "for my_name in range(10):\n",
    "    print(my_name,\"Abdul Rafay Riaz Naviwala\")"
   ]
  },
  {
   "cell_type": "code",
   "execution_count": null,
   "metadata": {},
   "outputs": [],
   "source": [
    "for num in range(1,10):\n",
    "    print(num, \"Pakistan\")"
   ]
  },
  {
   "cell_type": "code",
   "execution_count": null,
   "metadata": {},
   "outputs": [],
   "source": [
    "for num in range(10):\n",
    "    print(num, \"Pakistan\")"
   ]
  },
  {
   "cell_type": "code",
   "execution_count": null,
   "metadata": {},
   "outputs": [],
   "source": [
    "for num in range(6,10):\n",
    "    print(num, \"Pakistan\")"
   ]
  },
  {
   "cell_type": "code",
   "execution_count": null,
   "metadata": {},
   "outputs": [],
   "source": [
    "for num in range(12,10):\n",
    "    print(num, \"Pakistan\")"
   ]
  },
  {
   "cell_type": "code",
   "execution_count": null,
   "metadata": {},
   "outputs": [],
   "source": [
    "for num in range(0,10,2):\n",
    "    print(num, \"Pakistan\")"
   ]
  },
  {
   "cell_type": "code",
   "execution_count": null,
   "metadata": {},
   "outputs": [],
   "source": [
    "for num in range(0,10,2):\n",
    "    print(num)"
   ]
  },
  {
   "cell_type": "code",
   "execution_count": null,
   "metadata": {},
   "outputs": [],
   "source": [
    "for num_odds in range (1,10,2):   \n",
    "    print(num_odds)"
   ]
  },
  {
   "cell_type": "code",
   "execution_count": null,
   "metadata": {},
   "outputs": [],
   "source": [
    "for num_odds in range (1,int(10.2)):   #odd number\n",
    "    print(num_odds)"
   ]
  },
  {
   "cell_type": "markdown",
   "metadata": {},
   "source": [
    "# How to access numbers of list using a For Loop"
   ]
  },
  {
   "cell_type": "code",
   "execution_count": null,
   "metadata": {},
   "outputs": [],
   "source": [
    "list1=[11,22,33,44,\"55\",66,77,True,99]\n",
    "list1"
   ]
  },
  {
   "cell_type": "code",
   "execution_count": null,
   "metadata": {},
   "outputs": [],
   "source": [
    "for num in list1:\n",
    "    print(num)"
   ]
  },
  {
   "cell_type": "code",
   "execution_count": null,
   "metadata": {},
   "outputs": [],
   "source": [
    "for num in list1:\n",
    "    print(num,type(num))"
   ]
  },
  {
   "cell_type": "code",
   "execution_count": null,
   "metadata": {},
   "outputs": [],
   "source": [
    "list1"
   ]
  },
  {
   "cell_type": "code",
   "execution_count": null,
   "metadata": {},
   "outputs": [],
   "source": [
    "list1[3:6]"
   ]
  },
  {
   "cell_type": "code",
   "execution_count": null,
   "metadata": {},
   "outputs": [],
   "source": [
    "list1[6]"
   ]
  },
  {
   "cell_type": "code",
   "execution_count": null,
   "metadata": {},
   "outputs": [],
   "source": [
    "print(list1)"
   ]
  },
  {
   "cell_type": "code",
   "execution_count": null,
   "metadata": {},
   "outputs": [],
   "source": [
    "(list1,type(list1))"
   ]
  },
  {
   "cell_type": "code",
   "execution_count": null,
   "metadata": {},
   "outputs": [],
   "source": [
    "numbers=[1,2,3,4,5,6,7,8,9]"
   ]
  },
  {
   "cell_type": "code",
   "execution_count": null,
   "metadata": {},
   "outputs": [],
   "source": [
    "for even in numbers:\n",
    "    if even%2==0:\n",
    "        print(even)"
   ]
  },
  {
   "cell_type": "code",
   "execution_count": null,
   "metadata": {},
   "outputs": [],
   "source": [
    "for odd in numbers:\n",
    "    if odd%2==1:\n",
    "        print(odd)"
   ]
  },
  {
   "cell_type": "code",
   "execution_count": null,
   "metadata": {},
   "outputs": [],
   "source": [
    "memberList=[11,22,33,44,55,66,77,88,99]"
   ]
  },
  {
   "cell_type": "code",
   "execution_count": null,
   "metadata": {},
   "outputs": [],
   "source": [
    "for member in memberList:\n",
    "    if member%2 != 0:\n",
    "        print(str(member)+\" is odd\")\n",
    "    else:\n",
    "        print(str(member)+\" is even\")"
   ]
  },
  {
   "cell_type": "code",
   "execution_count": null,
   "metadata": {},
   "outputs": [],
   "source": [
    "for member in memberList:\n",
    "    if member%2 != 0:\n",
    "        print(member,\" is odd\",sep=\"\")\n",
    "    else:\n",
    "        print(member,\" is even\",sep=\"\")"
   ]
  },
  {
   "cell_type": "code",
   "execution_count": null,
   "metadata": {},
   "outputs": [],
   "source": [
    "for member in memberList:\n",
    "    if member%2 != 0:\n",
    "        print(member,\" is odd\")\n",
    "    else:\n",
    "        print(member,\" is even\")"
   ]
  },
  {
   "cell_type": "code",
   "execution_count": null,
   "metadata": {},
   "outputs": [],
   "source": [
    "memberList1=[11,22,33,44,55,66,77,88,99,...,305]"
   ]
  },
  {
   "cell_type": "code",
   "execution_count": null,
   "metadata": {},
   "outputs": [],
   "source": [
    "memberList1"
   ]
  },
  {
   "cell_type": "code",
   "execution_count": null,
   "metadata": {},
   "outputs": [],
   "source": [
    "oddNumberList=[]\n",
    "evenNumberList=[]\n",
    "message=\"\"\n",
    "\n",
    "list1=[1,2,3,4,5,6,7,8,9,10]\n",
    "\n",
    "for num in list1:\n",
    "    if num%2!=0:\n",
    "        oddNumberList.append(num)\n",
    "    else:\n",
    "        evenNumberList.append(num)\n",
    "        \n",
    "message += \"These are odd numbers :\"\n",
    "\n",
    "for odd in oddNumberList:\n",
    "    message +=str(odd) + \", \"\n",
    "    \n",
    "message += \"and \\n\"\n",
    "\n",
    "for even in evenNumberList:\n",
    "    message += str(even) + \", \"\n",
    "    \n",
    "message += \"are even numbers\"\n",
    "\n",
    "print(message)"
   ]
  },
  {
   "cell_type": "code",
   "execution_count": null,
   "metadata": {},
   "outputs": [],
   "source": [
    "even=[]\n",
    "odd=[]\n",
    "list1=[11,22,33,44,55,66,77,88]\n",
    "for num in list1:\n",
    "    if num%2==0:\n",
    "        even.append(num)\n",
    "    else:\n",
    "        odd.append(num)\n",
    "print('Even')\n",
    "for ev in even:\n",
    "    print(ev,end=' ')      #print function by default execute and moved on next line.End is used to determine ending of a line either to move to next line or continue with other criterias \n",
    "print('\\nOdd')\n",
    "for od in odd:\n",
    "    print(od,end=' ')"
   ]
  },
  {
   "cell_type": "code",
   "execution_count": null,
   "metadata": {},
   "outputs": [],
   "source": [
    "relatives=[\"jawwad\",\"hammad\",\"anas\",\"rizwan\"]\n",
    "friends=[\"nawaz\",\"shahbaz\",\"asif\",\"rizwan\"]\n",
    "for name in friends:\n",
    "    relatives.append(name)\n",
    "relatives\n",
    "    "
   ]
  },
  {
   "cell_type": "code",
   "execution_count": null,
   "metadata": {},
   "outputs": [],
   "source": [
    "print(\"close friends=rizwan\")"
   ]
  },
  {
   "cell_type": "code",
   "execution_count": 2,
   "metadata": {},
   "outputs": [
    {
     "name": "stdout",
     "output_type": "stream",
     "text": [
      "ALI\n",
      "SARA\n",
      "AHMED\n",
      "FATIMA\n"
     ]
    }
   ],
   "source": [
    "names=['Anas','Tooba','Ali','Sara',\"Ahmed\",'Fatima']\n",
    "for name in names[2:]:\n",
    "    print(name.upper())"
   ]
  },
  {
   "cell_type": "code",
   "execution_count": 11,
   "metadata": {},
   "outputs": [
    {
     "name": "stdout",
     "output_type": "stream",
     "text": [
      "the first three items in the list are:['haleem', 'biryani', 'zarda']\n",
      "the middle three items in the list are:['biryani', 'zarda', 'nihari']\n",
      "the last three items in the list are:['zarda', 'nihari', 'qorma']\n"
     ]
    }
   ],
   "source": [
    "food=[\"haleem\",'biryani','zarda','nihari','qorma']\n",
    "print(\"the first three items in the list are:\"+str(food[:3]))\n",
    "print(\"the middle three items in the list are:\"+str(food[1:4]))\n",
    "print(\"the last three items in the list are:\"+str(food[2:]))\n"
   ]
  },
  {
   "cell_type": "code",
   "execution_count": 14,
   "metadata": {},
   "outputs": [
    {
     "name": "stdout",
     "output_type": "stream",
     "text": [
      "first three items are:-\n",
      "haleem\n",
      "biryani\n",
      "zarda\n",
      "middle three items are:-\n",
      "biryani\n",
      "zarda\n",
      "nihari\n",
      "last three items are:-\n",
      "zarda\n",
      "nihari\n",
      "qorma\n"
     ]
    }
   ],
   "source": [
    "print(\"first three items are:-\")\n",
    "for name in food[:3]:\n",
    "    print(name)\n",
    "print(\"middle three items are:-\")    \n",
    "for name in food[1:4]:\n",
    "    print(name)\n",
    "print(\"last three items are:-\")    \n",
    "for name in food[2:]:\n",
    "    print(name)\n",
    "    \n"
   ]
  },
  {
   "cell_type": "code",
   "execution_count": null,
   "metadata": {},
   "outputs": [],
   "source": []
  }
 ],
 "metadata": {
  "kernelspec": {
   "display_name": "Python 3",
   "language": "python",
   "name": "python3"
  },
  "language_info": {
   "codemirror_mode": {
    "name": "ipython",
    "version": 3
   },
   "file_extension": ".py",
   "mimetype": "text/x-python",
   "name": "python",
   "nbconvert_exporter": "python",
   "pygments_lexer": "ipython3",
   "version": "3.7.1"
  }
 },
 "nbformat": 4,
 "nbformat_minor": 2
}
