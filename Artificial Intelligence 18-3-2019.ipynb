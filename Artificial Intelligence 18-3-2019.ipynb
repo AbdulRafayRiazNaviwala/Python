{
 "cells": [
  {
   "cell_type": "code",
   "execution_count": null,
   "metadata": {},
   "outputs": [],
   "source": [
    "var1=566\n",
    "if var1:\n",
    "    print (\"1-Got a true expression value\")\n",
    "    print (var1)\n",
    "else:\n",
    "    print (\"1-Got a false expression value\")\n",
    "    print (var1)"
   ]
  },
  {
   "cell_type": "code",
   "execution_count": null,
   "metadata": {},
   "outputs": [],
   "source": [
    "name = input(\"Enter your name:\").upper()\n",
    "if name =='ABDUL RAFAY':\n",
    "    print('Your name is '+name)\n",
    "else:\n",
    "    print(\"NO\")"
   ]
  },
  {
   "cell_type": "code",
   "execution_count": null,
   "metadata": {},
   "outputs": [],
   "source": [
    "weight = float(input(\"How many pounds does your suitcase weigh? \"))\n",
    "if weight > 50:\n",
    "    print(\"There is a $25 charge for luggage that heavy.\")\n",
    "    \n",
    "print(\"Thank you for your business.\")"
   ]
  },
  {
   "cell_type": "code",
   "execution_count": null,
   "metadata": {},
   "outputs": [],
   "source": [
    "temp=int(input(\"What is the temperature right now? \"))\n",
    "if temp>35:\n",
    "    print(\"Where Shorts! Its better for you today\")\n",
    "else:\n",
    "    print(\"Where your Pants! Enjoy\")    "
   ]
  },
  {
   "cell_type": "code",
   "execution_count": null,
   "metadata": {},
   "outputs": [],
   "source": [
    "x = float(input(\"Enter yours marks out of 100 :\"))\n",
    "if x>100:\n",
    "    print(\"don't make me fool\")\n",
    "\n",
    "elif x >= 90:\n",
    "    print(\"Grade A*\")\n",
    "elif x >= 80:\n",
    "    print('Grade A')\n",
    "elif x >= 70:\n",
    "    print(\"Grade B\")\n",
    "elif x >= 60:\n",
    "    print('Grade C')\n",
    "elif x >= 50:\n",
    "    print('Grade D')\n",
    "else:\n",
    "    print('Sorry! You are fail.')"
   ]
  },
  {
   "cell_type": "code",
   "execution_count": 30,
   "metadata": {},
   "outputs": [
    {
     "name": "stdout",
     "output_type": "stream",
     "text": [
      "marks of maths:43\n",
      "marks of eng:32\n",
      "marks of programming:21\n",
      "marks of comp:24\n",
      "marks of maths:43\n",
      "your total marks are 163\n",
      "you've got 32%\n",
      "your grade is not enough to show you\n"
     ]
    }
   ],
   "source": [
    "m=float(input(\"marks of maths:\"))\n",
    "n=float(input(\"marks of eng:\"))\n",
    "o=float(input(\"marks of programming:\"))\n",
    "l=float(input(\"marks of comp:\"))\n",
    "k=float(input(\"marks of maths:\"))\n",
    "t=m+n+o+l+k\n",
    "p=int(t/500*100)\n",
    "#grade=\"no grade issued\"\n",
    "if p>100:\n",
    "    grade=\"A+\"\n",
    "elif p>=90:\n",
    "    grade=\"A\"\n",
    "elif p>=80:\n",
    "    grade=\"B\"    \n",
    "else:\n",
    "    grade=\"not enough to show you\"\n",
    "print(\"your total marks are \",int(t),\"\\n\",\"you've got \",p,\"%\\n\",\"your grade is \",grade,sep=\"\")    \n",
    "\n"
   ]
  },
  {
   "cell_type": "markdown",
   "metadata": {},
   "source": []
  }
 ],
 "metadata": {
  "kernelspec": {
   "display_name": "Python 3",
   "language": "python",
   "name": "python3"
  }
 },
 "nbformat": 4,
 "nbformat_minor": 2
}
