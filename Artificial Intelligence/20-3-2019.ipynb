{
 "cells": [
  {
   "cell_type": "code",
   "execution_count": null,
   "metadata": {},
   "outputs": [],
   "source": [
    "ijazat=input(\"Ask from your wife\")"
   ]
  },
  {
   "cell_type": "code",
   "execution_count": 2,
   "metadata": {},
   "outputs": [
    {
     "name": "stdout",
     "output_type": "stream",
     "text": [
      "Do you have ticket (y/n): y\n",
      "what is yhe day today?monday\n",
      "Have you got permission from parents:(y/n) y\n",
      "you cannot enter the stadium to watch match\n"
     ]
    }
   ],
   "source": [
    "ticket = input(\"Do you have ticket (y/n): \")\n",
    "day = input(\"what is yhe day today?\")\n",
    "permission = input(\"Have you got permission from parents:(y/n) \")\n",
    "\n",
    "if ticket ==\"y\" and day == \"sunday\" and permission==\"y\":\n",
    "    print(\"you can enter the stadium to watch match\")\n",
    "else:\n",
    "    print(\"you cannot enter the stadium to watch match\")"
   ]
  },
  {
   "cell_type": "code",
   "execution_count": 4,
   "metadata": {},
   "outputs": [
    {
     "name": "stdout",
     "output_type": "stream",
     "text": [
      "\t**CASTING VOTE**\n",
      "Enter your age: 6\n",
      "You are under age.\n",
      "You will be allowed after 12 years.\n"
     ]
    }
   ],
   "source": [
    "print(\"\\t**CASTING VOTE**\")\n",
    "age = int(input(\"Enter your age: \"))\n",
    "remaingAge = 18 - age\n",
    "if age >= 18:\n",
    "    cnic = input(\"Do you have your ID card with you right now? [y/n]\")\n",
    "    city = input(\"Please Enter your city name here: \")\n",
    "    if cnic == 'y' or city != 'lahore':\n",
    "        print(\"\\nGo and cast your vote.\\nHope for your positive response.\")\n",
    "    else: \n",
    "        print(\"Sorry! you are not allowed to cast your vote here.\")\n",
    "else:\n",
    "    print(\"You are under age.\")\n",
    "    print(\"You will be allowed after \" + str(remaingAge) + \" years.\")"
   ]
  },
  {
   "cell_type": "code",
   "execution_count": 10,
   "metadata": {},
   "outputs": [
    {
     "name": "stdout",
     "output_type": "stream",
     "text": [
      "\t**CASTING VOTE**\n",
      "Enter your age: 54\n",
      "do you have your cnic?(y/n)n\n",
      "enter your city name lahore\n",
      "sorry!you are not allowed to cast your vote here\n"
     ]
    }
   ],
   "source": [
    "print(\"\\t**CASTING VOTE**\")\n",
    "age=int(input(\"Enter your age: \"))\n",
    "remainingAge=18-age\n",
    "if age>=18:\n",
    "    cnic=input(\"do you have your cnic?(y/n)\")\n",
    "    city=input(\"enter your city name \")\n",
    "    if cnic=='y' or city!='lahore':\n",
    "        print(\"\\ngo and cast your vote\")\n",
    "    else:\n",
    "        print(\"sorry!you are not allowed to cast your vote here\")\n",
    "else:\n",
    "    print(\"you are under age\")\n",
    "    print(\"you are allowed after \"+str(remainingAge) +\"years.\")\n",
    "\n",
    "    \n"
   ]
  },
  {
   "cell_type": "code",
   "execution_count": 16,
   "metadata": {},
   "outputs": [
    {
     "name": "stdout",
     "output_type": "stream",
     "text": [
      "dhi\n"
     ]
    }
   ],
   "source": [
    "# print(\"jsi #idk jqwsi\")\n",
    "# print(\"dhw\")\n",
    "print(\"dhi\")"
   ]
  },
  {
   "cell_type": "code",
   "execution_count": 18,
   "metadata": {},
   "outputs": [],
   "source": [
    "mylist=[1,\"syu\",True,print]"
   ]
  },
  {
   "cell_type": "code",
   "execution_count": 19,
   "metadata": {},
   "outputs": [],
   "source": [
    "my=[\"klii\",\"ighuiyi\",\"olj\"]"
   ]
  },
  {
   "cell_type": "code",
   "execution_count": 20,
   "metadata": {},
   "outputs": [
    {
     "data": {
      "text/plain": [
       "'olj'"
      ]
     },
     "execution_count": 20,
     "metadata": {},
     "output_type": "execute_result"
    }
   ],
   "source": [
    "my[2]"
   ]
  },
  {
   "cell_type": "code",
   "execution_count": 27,
   "metadata": {},
   "outputs": [
    {
     "data": {
      "text/plain": [
       "'khi'"
      ]
     },
     "execution_count": 27,
     "metadata": {},
     "output_type": "execute_result"
    }
   ],
   "source": [
    "mylist=[\"khi\",\"lhr\",\"qta\"]\n",
    "mylist[0]"
   ]
  },
  {
   "cell_type": "code",
   "execution_count": null,
   "metadata": {},
   "outputs": [],
   "source": []
  }
 ],
 "metadata": {
  "kernelspec": {
   "display_name": "Python 3",
   "language": "python",
   "name": "python3"
  },
  "language_info": {
   "codemirror_mode": {
    "name": "ipython",
    "version": 3
   },
   "file_extension": ".py",
   "mimetype": "text/x-python",
   "name": "python",
   "nbconvert_exporter": "python",
   "pygments_lexer": "ipython3",
   "version": "3.7.1"
  }
 },
 "nbformat": 4,
 "nbformat_minor": 2
}
